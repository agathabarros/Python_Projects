{
 "cells": [
  {
   "cell_type": "code",
   "execution_count": 12,
   "id": "4e52ec97-9511-4e1d-b991-d96ee4426c3f",
   "metadata": {},
   "outputs": [
    {
     "data": {
      "text/plain": [
       "DeltaGenerator()"
      ]
     },
     "execution_count": 12,
     "metadata": {},
     "output_type": "execute_result"
    }
   ],
   "source": [
    "import streamlit as st\n",
    "import pandas as pd\n",
    "\n",
    "df = pd.read_csv(\"MOCK_DATA2.csv\")\n",
    "\n",
    "st.line_chart(df, x='Price', y='Store Name')"
   ]
  },
  {
   "cell_type": "code",
   "execution_count": null,
   "id": "74206fd1-91ab-4a14-80d6-e209227daa4a",
   "metadata": {},
   "outputs": [],
   "source": []
  },
  {
   "cell_type": "code",
   "execution_count": null,
   "id": "231ac5bf-e310-4d6a-80dd-93f594d289d6",
   "metadata": {},
   "outputs": [],
   "source": []
  }
 ],
 "metadata": {
  "kernelspec": {
   "display_name": "Python 3 (ipykernel)",
   "language": "python",
   "name": "python3"
  },
  "language_info": {
   "codemirror_mode": {
    "name": "ipython",
    "version": 3
   },
   "file_extension": ".py",
   "mimetype": "text/x-python",
   "name": "python",
   "nbconvert_exporter": "python",
   "pygments_lexer": "ipython3",
   "version": "3.11.5"
  }
 },
 "nbformat": 4,
 "nbformat_minor": 5
}
