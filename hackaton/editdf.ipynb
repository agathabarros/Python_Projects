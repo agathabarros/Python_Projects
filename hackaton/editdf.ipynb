{
 "cells": [
  {
   "cell_type": "code",
   "execution_count": 6,
   "id": "6bef626e-9995-48de-9810-917783ec54c0",
   "metadata": {},
   "outputs": [],
   "source": [
    "import pandas as pd\n",
    "\n",
    "# Carregue o arquivo CSV em um DataFrame\n",
    "df = pd.read_csv('MOCK_DATA.csv')  # Substitua 'seuarquivo.csv' pelo caminho do seu arquivo CSV\n",
    "\n",
    "# Divida os valores da coluna desejada por 100\n",
    "nome_da_coluna = 'Price'  # Substitua 'NomeDaColuna' pelo nome da coluna que você deseja dividir\n",
    "df['Price'] = df['Price'] / 100\n",
    "\n",
    "# Salve o DataFrame de volta no arquivo CSV (se desejar)\n",
    "df.to_csv('MOCK_DATA2.csv', index=False)  # Salvar em um novo arquivo, se necessário"
   ]
  },
  {
   "cell_type": "code",
   "execution_count": null,
   "id": "c6ae612f-9375-49c2-884d-f6e6d48fb5b3",
   "metadata": {},
   "outputs": [],
   "source": []
  },
  {
   "cell_type": "code",
   "execution_count": null,
   "id": "38bbc421-1403-4934-a5d3-0a5d87e2749d",
   "metadata": {},
   "outputs": [],
   "source": []
  }
 ],
 "metadata": {
  "kernelspec": {
   "display_name": "Python 3 (ipykernel)",
   "language": "python",
   "name": "python3"
  },
  "language_info": {
   "codemirror_mode": {
    "name": "ipython",
    "version": 3
   },
   "file_extension": ".py",
   "mimetype": "text/x-python",
   "name": "python",
   "nbconvert_exporter": "python",
   "pygments_lexer": "ipython3",
   "version": "3.11.5"
  }
 },
 "nbformat": 4,
 "nbformat_minor": 5
}
