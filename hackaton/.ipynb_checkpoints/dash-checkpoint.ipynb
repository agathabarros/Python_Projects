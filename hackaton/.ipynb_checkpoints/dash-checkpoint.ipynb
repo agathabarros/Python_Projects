{
 "cells": [
  {
   "cell_type": "markdown",
   "id": "d11a764e-fc0c-4f56-a74c-1f9d7ca8a289",
   "metadata": {},
   "source": [
    "Estrutura Basica\n",
    "    * plotly - graficos\n",
    "    * Flask - aplicação"
   ]
  },
  {
   "cell_type": "markdown",
   "id": "a0b70ee9-a6e2-430b-b770-b1bbdbdbfe3c",
   "metadata": {},
   "source": [
    "Como funciona\n",
    "    * Layout \n",
    "        * HTML\n",
    "        * Dash components (botão)\n",
    "    * callback (logica dos filtros)\n",
    "    "
   ]
  },
  {
   "cell_type": "markdown",
   "id": "185cb4fe-e857-4c16-9ba5-c179cb47c6b9",
   "metadata": {},
   "source": [
    "Primeiro Dash/ trás flexibilidade, porém o power bi é mais intuitivo. "
   ]
  },
  {
   "cell_type": "code",
   "execution_count": 123,
   "id": "3d7b9ac3-af56-4506-a139-80281fa81881",
   "metadata": {},
   "outputs": [
    {
     "data": {
      "text/html": [
       "\n",
       "        <iframe\n",
       "            width=\"100%\"\n",
       "            height=\"650\"\n",
       "            src=\"http://127.0.0.1:8050/\"\n",
       "            frameborder=\"0\"\n",
       "            allowfullscreen\n",
       "            \n",
       "        ></iframe>\n",
       "        "
      ],
      "text/plain": [
       "<IPython.lib.display.IFrame at 0x117b68cd0>"
      ]
     },
     "metadata": {},
     "output_type": "display_data"
    }
   ],
   "source": [
    "# Run this app with `python app.py` and\n",
    "# visit http://127.0.0.1:8050/ in your web browser.\n",
    "\n",
    "\n",
    "from dash import Dash, html, dcc\n",
    "import plotly.express as px\n",
    "import pandas as pd\n",
    "\n",
    "app = Dash(__name__) #criando seu app Dash\n",
    "\n",
    "# assume you have a \"long-form\" data frame\n",
    "# see https://plotly.com/python/px-arguments/ for more options\n",
    "\n",
    "# importar base de dados\n",
    "df = pd.read_csv(\"MOCK_DATA2.csv\")\n",
    "\n",
    "# Converta a coluna \"Date of Scraping\" para o tipo de data\n",
    "df['Date of Scraping'] = pd.to_datetime(df['Date of Scraping'])\n",
    "df['YearMonth'] = df['Date of Scraping'].dt.to_period('M')\n",
    "\n",
    "# Filtre os dados para mostrar apenas um mês específico (por exemplo, janeiro de 2023)\n",
    "mes_filtrado = df[df['Date of Scraping'].dt.month == 2]  # 1 representa janeiro\n",
    "year_filtrado = df[df['Date of Scraping'].dt.year == 2023]  # 1 representa janeiro\n",
    "\n",
    "\n",
    "\n",
    "# criar graficos\n",
    "fig3 = px.scatter(df, x=\"Date of Scraping\", y=\"Price\", color='Wine Name', )\n",
    "fig3.update_layout(plot_bgcolor='#fcedc1', paper_bgcolor='#fcedc1')\n",
    "\n",
    "\n",
    "fig = px.bar(df, x=\"Wine Name\", y=\"Price\", color=\"Store Name\", barmode=\"group\")\n",
    "fig.update_layout(plot_bgcolor='#fcedc1', paper_bgcolor='#fcedc1')\n",
    "\n",
    "fig2= px.line(mes_filtrado, x=\"Store Name\", y=\"Price\", color=\"Wine Name\")\n",
    "fig2.update_layout(plot_bgcolor='#fcedc1', paper_bgcolor='#fcedc1')\n",
    "\n",
    "\n",
    "\n",
    "fig4 = px.pie(df, values='Capacity', names='Wine Name', )\n",
    "fig4.update_layout(plot_bgcolor='#fcedc1', paper_bgcolor='#fcedc1')\n",
    "\n",
    "#fig.update_traces(marker=dict(color='#fcedc1'))\n",
    "#design \n",
    "# estrutura titulo \n",
    "    # h1 - maior titulo \n",
    "    # h2 - um pouco menor\n",
    "    # h3 - menor ainda\n",
    "\n",
    "app.layout = html.Div(children=[\n",
    "    html.H1(children='Dashboard Ex', style={\"text-align\": \"center\"} ),\n",
    "\n",
    "    html.Div(children='''\n",
    "        Dash: Dasboard de Vendas em python.\n",
    "    '''),\n",
    "\n",
    "    html.H4(children=' Price Trends:'), \n",
    "    \n",
    "#graficos\n",
    "    dcc.Graph(id='price-trends',figure=fig),\n",
    "    dcc.Graph(id='grafic2',figure=fig3 ),\n",
    "    dcc.Graph(id='grafic3',figure=fig2),\n",
    "    dcc.Graph(id='grafic4',figure=fig4),\n",
    "    \n",
    "    \n",
    "],style={\n",
    "       'background-color': '#fcedc1',  # Substitua  'blue' ou '#FFA500'\n",
    "        'height': '100vh',  # Defina a altura do layout\n",
    " })\n",
    "\n",
    "# colocando no ar o site \n",
    "if __name__ == '__main__':\n",
    "    app.run_server(debug=True)\n"
   ]
  },
  {
   "cell_type": "code",
   "execution_count": null,
   "id": "3b8b63fa-fac1-49a6-b384-5b622a14a1a0",
   "metadata": {},
   "outputs": [],
   "source": []
  },
  {
   "cell_type": "code",
   "execution_count": null,
   "id": "d78e1286-5b9e-4015-bc52-b2f15a9d6723",
   "metadata": {},
   "outputs": [],
   "source": []
  },
  {
   "cell_type": "code",
   "execution_count": null,
   "id": "c28d5457-a43a-4385-ac92-ec708dc9d2b3",
   "metadata": {},
   "outputs": [],
   "source": []
  }
 ],
 "metadata": {
  "kernelspec": {
   "display_name": "Python 3 (ipykernel)",
   "language": "python",
   "name": "python3"
  },
  "language_info": {
   "codemirror_mode": {
    "name": "ipython",
    "version": 3
   },
   "file_extension": ".py",
   "mimetype": "text/x-python",
   "name": "python",
   "nbconvert_exporter": "python",
   "pygments_lexer": "ipython3",
   "version": "3.11.5"
  }
 },
 "nbformat": 4,
 "nbformat_minor": 5
}
