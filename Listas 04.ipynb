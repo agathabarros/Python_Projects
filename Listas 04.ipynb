{
 "cells": [
  {
   "cell_type": "markdown",
   "metadata": {},
   "source": [
    "# Adicionar e Remover itens de uma lista\n",
    "\n",
    "Adicionar:<br>\n",
    "lista.append(item)\n",
    "\n",
    "Remover:<br>\n",
    "item_removido = lista.pop(indice)<br>\n",
    "lista.remove(item)\n",
    "\n",
    "Digamos que você está construindo o controle de produtos da Apple.<br>\n",
    "E a Apple lançou o IPhone 11 e irá tirar dos seus estoques o IPhone X"
   ]
  },
  {
   "cell_type": "code",
   "execution_count": 15,
   "metadata": {},
   "outputs": [
    {
     "name": "stdout",
     "output_type": "stream",
     "text": [
      "lista\n",
      "['apple tv', 'mac', 'iphone x', 'IPad', 'apple watch', 'mac book', 'airpods']\n",
      "\n",
      "\n",
      "add:\n",
      "['apple tv', 'mac', 'iphone x', 'IPad', 'apple watch', 'mac book', 'airpods', 'iphone 11']\n",
      "\n",
      "\n",
      "exemplo remove:\n",
      "iphonex não existe na lista de produtos\n",
      "\n",
      "\n",
      "exemplo pop:\n",
      "['apple tv', 'mac', 'IPad', 'apple watch', 'mac book', 'airpods', 'iphone 11']\n",
      "Removemos o iphone x da lista\n",
      "\n",
      "\n"
     ]
    }
   ],
   "source": [
    "produtos = ['apple tv', 'mac', 'iphone x', 'IPad', 'apple watch', 'mac book', 'airpods']\n",
    "print('lista')\n",
    "print(produtos)\n",
    "print('\\n')\n",
    "\n",
    "\n",
    "#add o iphone 11\n",
    "\n",
    "produtos.append('iphone 11')\n",
    "print('add:')\n",
    "print(produtos)\n",
    "print('\\n')\n",
    "\n",
    "\n",
    "\n",
    "#remover iphone x\n",
    "print('exemplo remove:')\n",
    "\n",
    "produtos_remove = 'iphonex'\n",
    "if produtos_remove in  produtos:\n",
    "    produtos.remove('iphonex')\n",
    "else:\n",
    "    print('{} não existe na lista de produtos'.format(produtos_remove))\n",
    "print('\\n')\n",
    "\n",
    "\n",
    "\n",
    "\n",
    "\n",
    "#with pop\n",
    "\n",
    "print('exemplo pop:')\n",
    "\n",
    "item_removido = produtos.pop(2)\n",
    "print(produtos)\n",
    "print('Removemos o {} da lista'.format(item_removido))\n",
    "\n",
    "print('\\n')\n"
   ]
  },
  {
   "cell_type": "markdown",
   "metadata": {},
   "source": [
    "## Existem 2 formas de tratar o erro:\n",
    "\n",
    "1. Criar um if para evitar que ele aconteça\n",
    "\n",
    "2. Esperar que ele possa acontecer e tratar caso o erro aconteça com:"
   ]
  },
  {
   "cell_type": "raw",
   "metadata": {},
   "source": [
    "try:\n",
    "    tentar fazer\n",
    "except:\n",
    "    caso dê errado"
   ]
  },
  {
   "cell_type": "code",
   "execution_count": 16,
   "metadata": {},
   "outputs": [
    {
     "name": "stdout",
     "output_type": "stream",
     "text": [
      "iphonex não existe na lista de produtos\n"
     ]
    }
   ],
   "source": [
    "try:\n",
    "    produtos.remove('iphonex')\n",
    "    print(produtos)\n",
    "except:\n",
    "    print('iphonex não existe na lista de produtos')\n"
   ]
  },
  {
   "cell_type": "code",
   "execution_count": null,
   "metadata": {},
   "outputs": [],
   "source": []
  }
 ],
 "metadata": {
  "kernelspec": {
   "display_name": "Python 3 (ipykernel)",
   "language": "python",
   "name": "python3"
  },
  "language_info": {
   "codemirror_mode": {
    "name": "ipython",
    "version": 3
   },
   "file_extension": ".py",
   "mimetype": "text/x-python",
   "name": "python",
   "nbconvert_exporter": "python",
   "pygments_lexer": "ipython3",
   "version": "3.11.5"
  }
 },
 "nbformat": 4,
 "nbformat_minor": 4
}
